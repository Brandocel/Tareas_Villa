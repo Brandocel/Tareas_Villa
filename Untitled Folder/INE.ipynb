{
 "cells": [
  {
   "cell_type": "code",
   "execution_count": null,
   "id": "6299dfe9",
   "metadata": {
    "scrolled": true
   },
   "outputs": [
    {
     "name": "stdout",
     "output_type": "stream",
     "text": [
      "Nombre: trwe\n",
      "Apellido: rwe\n",
      "Domicilio: rwe\n"
     ]
    }
   ],
   "source": [
    "datos_ine = {}\n",
    "datos_ine['nombre'] = input(\"Nombre: \")\n",
    "datos_ine['apellido'] = input(\"Apellido: \")\n",
    "datos_ine['domicilio'] = input(\"Domicilio: \")\n",
    "datos_ine['lote'] = input(\"Lote\")\n",
    "datos_ine['manzana'] = input(\"Manzana\")\n",
    "datos_ine['c.p'] = input(\"C.P\")\n",
    "datos_ine['claveElector'] = input(\"Clave de elector\")\n",
    "datos_ine['curp'] = input(\"CURP: \")\n",
    "datos_ine['anoRegistro'] = input(\"Age de registro\")\n",
    "datos_ine['vigencia'] = input(\"Vigencia\")\n",
    "\n",
    "with open('datos_ine.txt', 'w') as archivo:\n",
    "    for campo, valor in datos_ine.items():\n",
    "        archivo.write(f\"{campo}: {valor}\\n\")\n",
    "\n",
    "        \n",
    "with open('datos_ine.txt', 'r') as archivo:\n",
    "    datos = archivo.read()\n",
    "    print(datos)\n",
    "\n",
    "\n"
   ]
  },
  {
   "cell_type": "code",
   "execution_count": 25,
   "id": "c423eef6",
   "metadata": {},
   "outputs": [
    {
     "name": "stdout",
     "output_type": "stream",
     "text": [
      "hola 3456789\n"
     ]
    }
   ],
   "source": [
    "a = input(\"hola \")"
   ]
  },
  {
   "cell_type": "code",
   "execution_count": null,
   "id": "1264238b",
   "metadata": {},
   "outputs": [],
   "source": []
  }
 ],
 "metadata": {
  "kernelspec": {
   "display_name": "Python 3 (ipykernel)",
   "language": "python",
   "name": "python3"
  },
  "language_info": {
   "codemirror_mode": {
    "name": "ipython",
    "version": 3
   },
   "file_extension": ".py",
   "mimetype": "text/x-python",
   "name": "python",
   "nbconvert_exporter": "python",
   "pygments_lexer": "ipython3",
   "version": "3.11.4"
  }
 },
 "nbformat": 4,
 "nbformat_minor": 5
}

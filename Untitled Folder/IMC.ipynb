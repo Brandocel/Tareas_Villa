{
 "cells": [
  {
   "cell_type": "code",
   "execution_count": 1,
   "id": "ced46e26",
   "metadata": {},
   "outputs": [
    {
     "name": "stdout",
     "output_type": "stream",
     "text": [
      "Ingresa tu peso en kilogramos: 180\n",
      "Ingresa tu altura en metros: 1.75\n",
      "Tu IMC es: 58.775510204081634\n",
      "Tienes obesidad.\n"
     ]
    }
   ],
   "source": [
    "def calcular_imc(peso, altura):\n",
    "    imc = peso / (altura * altura)\n",
    "    return imc\n",
    "\n",
    "peso = float(input(\"Ingresa tu peso en kilogramos: \"))\n",
    "altura = float(input(\"Ingresa tu altura en metros: \"))\n",
    "\n",
    "imc = calcular_imc(peso, altura)\n",
    "\n",
    "\n",
    "print(\"Tu IMC es:\", imc)\n",
    "\n",
    "\n",
    "if imc < 18.5:\n",
    "    print(\"Tienes un bajo peso.\")\n",
    "elif 18.5 <= imc < 25:\n",
    "    print(\"Estás en un rango de peso saludable.\")\n",
    "elif 25 <= imc < 30:\n",
    "    print(\"Tienes sobrepeso.\")\n",
    "else:\n",
    "    print(\"Tienes obesidad.\")\n"
   ]
  },
  {
   "cell_type": "code",
   "execution_count": null,
   "id": "dbfb0f15",
   "metadata": {},
   "outputs": [],
   "source": []
  }
 ],
 "metadata": {
  "kernelspec": {
   "display_name": "Python 3 (ipykernel)",
   "language": "python",
   "name": "python3"
  },
  "language_info": {
   "codemirror_mode": {
    "name": "ipython",
    "version": 3
   },
   "file_extension": ".py",
   "mimetype": "text/x-python",
   "name": "python",
   "nbconvert_exporter": "python",
   "pygments_lexer": "ipython3",
   "version": "3.11.4"
  }
 },
 "nbformat": 4,
 "nbformat_minor": 5
}

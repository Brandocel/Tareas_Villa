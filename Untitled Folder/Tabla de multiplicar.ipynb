{
 "cells": [
  {
   "cell_type": "code",
   "execution_count": null,
   "id": "461f790c",
   "metadata": {},
   "outputs": [],
   "source": [
    "numero_tablas = int(input(\"Ingrese el número de tablas de multiplicar que desea ver: \"))\n",
    "cantidad_multiplicaciones = int(input(\"Ingrese la cantidad de multiplicaciones a mostrar por tabla: \"))\n",
    "\n",
    "\n",
    "def tabla_de_multiplicar(numero_tablas, cantidad_multiplicaciones):\n",
    "    for numero in range(1, numero_tablas + 1):\n",
    "        print(f\"Tabla de multiplicar del {numero}:\")\n",
    "        for multiplicador in range(1, cantidad_multiplicaciones + 1):\n",
    "            resultado = numero * multiplicador\n",
    "            print(f\"{numero} x {multiplicador} = {resultado}\")\n",
    "        print()\n",
    "\n",
    "tabla_de_multiplicar(numero_tablas, cantidad_multiplicaciones)\n"
   ]
  },
  {
   "cell_type": "code",
   "execution_count": null,
   "id": "990ca745",
   "metadata": {},
   "outputs": [],
   "source": []
  }
 ],
 "metadata": {
  "kernelspec": {
   "display_name": "Python 3 (ipykernel)",
   "language": "python",
   "name": "python3"
  },
  "language_info": {
   "codemirror_mode": {
    "name": "ipython",
    "version": 3
   },
   "file_extension": ".py",
   "mimetype": "text/x-python",
   "name": "python",
   "nbconvert_exporter": "python",
   "pygments_lexer": "ipython3",
   "version": "3.11.4"
  }
 },
 "nbformat": 4,
 "nbformat_minor": 5
}

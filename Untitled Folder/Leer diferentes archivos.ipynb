{
 "cells": [
  {
   "cell_type": "code",
   "execution_count": 3,
   "id": "29288d7f",
   "metadata": {},
   "outputs": [
    {
     "ename": "ModuleNotFoundError",
     "evalue": "No module named 'docx'",
     "output_type": "error",
     "traceback": [
      "\u001b[1;31m---------------------------------------------------------------------------\u001b[0m",
      "\u001b[1;31mModuleNotFoundError\u001b[0m                       Traceback (most recent call last)",
      "Cell \u001b[1;32mIn[3], line 3\u001b[0m\n\u001b[0;32m      1\u001b[0m \u001b[38;5;28;01mimport\u001b[39;00m \u001b[38;5;21;01mtkinter\u001b[39;00m \u001b[38;5;28;01mas\u001b[39;00m \u001b[38;5;21;01mtk\u001b[39;00m\n\u001b[0;32m      2\u001b[0m \u001b[38;5;28;01mfrom\u001b[39;00m \u001b[38;5;21;01mtkinter\u001b[39;00m \u001b[38;5;28;01mimport\u001b[39;00m filedialog\n\u001b[1;32m----> 3\u001b[0m \u001b[38;5;28;01mfrom\u001b[39;00m \u001b[38;5;21;01mdocx\u001b[39;00m \u001b[38;5;28;01mimport\u001b[39;00m Document\n\u001b[0;32m      4\u001b[0m \u001b[38;5;28;01mimport\u001b[39;00m \u001b[38;5;21;01mopenpyxl\u001b[39;00m\n\u001b[0;32m      5\u001b[0m \u001b[38;5;28;01mimport\u001b[39;00m \u001b[38;5;21;01mfitz\u001b[39;00m\n",
      "\u001b[1;31mModuleNotFoundError\u001b[0m: No module named 'docx'"
     ]
    }
   ],
   "source": [
    "import tkinter as tk\n",
    "from tkinter import filedialog\n",
    "from docx import Document\n",
    "import openpyxl\n",
    "import fitz\n",
    "import random\n",
    "import string\n",
    "\n",
    "class GestorDocumento:\n",
    "    def __init__(self, archivo, nombre_prueba):\n",
    "        self.archivo = archivo\n",
    "        self.nombre_prueba = nombre_prueba\n",
    "\n",
    "    def abrir_doc_word(self):\n",
    "        try:\n",
    "            document = Document(self.archivo)\n",
    "            for paragraph in document.paragraphs:\n",
    "                print(paragraph.text)\n",
    "        except Exception as e:\n",
    "            print(f\"Error al abrir el documento Word '{self.nombre_prueba}': {e}\")\n",
    "\n",
    "    def abrir_doc_excel(self):\n",
    "        try:\n",
    "            workbook = openpyxl.load_workbook(self.archivo)\n",
    "            sheet = workbook.active\n",
    "            for row in sheet.iter_rows(values_only=True):\n",
    "                print(\" \".join(map(str, row)))\n",
    "        except Exception as e:\n",
    "            print(f\"Error al abrir el documento Excel '{self.nombre_prueba}': {e}\")\n",
    "\n",
    "    def abrir_doc_pdf(self):\n",
    "        try:\n",
    "            pdf_document = fitz.open(self.archivo)\n",
    "            for page_num in range(len(pdf_document)):\n",
    "                page = pdf_document[page_num]\n",
    "                text = page.get_text()\n",
    "                print(text)\n",
    "        except Exception as e:\n",
    "            print(f\"Error al abrir el documento PDF '{self.nombre_prueba}': {e}\")\n",
    "\n",
    "    def abrir_documento(self):\n",
    "        tipo_archivo = self.archivo.split(\".\")[-1]\n",
    "        if tipo_archivo == \"docx\":\n",
    "            self.abrir_doc_word()\n",
    "        elif tipo_archivo == \"xlsx\":\n",
    "            self.abrir_doc_excel()\n",
    "        elif tipo_archivo == \"pdf\":\n",
    "            self.abrir_doc_pdf()\n",
    "        else:\n",
    "            print(\"Tipo de archivo no válido\")\n",
    "\n",
    "def generar_nombre_aleatorio():\n",
    "    return ''.join(random.choices(string.ascii_letters, k=8))\n",
    "\n",
    "def seleccionar_documento():\n",
    "    archivo = filedialog.askopenfilename(title=\"Seleccionar documento\", filetypes=[(\"Documentos\", \"*.*\")])\n",
    "    if archivo:\n",
    "        nombre_prueba = generar_nombre_aleatorio()\n",
    "        gestor = GestorDocumento(archivo, nombre_prueba)\n",
    "        gestor.abrir_documento()\n",
    "\n",
    "def ejecutar_programa():\n",
    "    root = tk.Tk()\n",
    "    root.withdraw()  # Ocultar la ventana principal de tkinter\n",
    "    seleccionar_documento()\n",
    "\n",
    "if __name__ == \"__main__\":\n",
    "    ejecutar_programa()\n"
   ]
  },
  {
   "cell_type": "code",
   "execution_count": null,
   "id": "90c9283b",
   "metadata": {},
   "outputs": [],
   "source": []
  },
  {
   "cell_type": "code",
   "execution_count": null,
   "id": "8f8791ef",
   "metadata": {},
   "outputs": [],
   "source": []
  }
 ],
 "metadata": {
  "kernelspec": {
   "display_name": "Python 3 (ipykernel)",
   "language": "python",
   "name": "python3"
  },
  "language_info": {
   "codemirror_mode": {
    "name": "ipython",
    "version": 3
   },
   "file_extension": ".py",
   "mimetype": "text/x-python",
   "name": "python",
   "nbconvert_exporter": "python",
   "pygments_lexer": "ipython3",
   "version": "3.11.4"
  }
 },
 "nbformat": 4,
 "nbformat_minor": 5
}
